{
  "nbformat": 4,
  "nbformat_minor": 0,
  "metadata": {
    "colab": {
      "provenance": []
    },
    "kernelspec": {
      "name": "python3",
      "display_name": "Python 3"
    },
    "language_info": {
      "name": "python"
    }
  },
  "cells": [
    {
      "cell_type": "code",
      "source": [
        "import random\n",
        "\n",
        "def generate_markov_chain(text, start_word, output_length):\n",
        "    words = text.split()\n",
        "    transitions = {}\n",
        "\n",
        "    # Construct transition probabilities\n",
        "    for i in range(len(words) - 1):\n",
        "        current_word = words[i]\n",
        "        next_word = words[i + 1]\n",
        "        if current_word in transitions:\n",
        "            transitions[current_word].append(next_word)\n",
        "        else:\n",
        "            transitions[current_word] = [next_word]\n",
        "\n",
        "    # Generate text using Markov chain\n",
        "    output = [start_word]\n",
        "    for _ in range(output_length - 1):\n",
        "        current_word = output[-1]\n",
        "        if current_word in transitions:\n",
        "            next_word = random.choice(transitions[current_word])\n",
        "            output.append(next_word)\n",
        "        else:\n",
        "            break\n",
        "\n",
        "    return ' '.join(output)\n",
        "\n",
        "# Example usage:\n",
        "input_text = \"\"\"\n",
        "The cat sat on the mat.\n",
        "The mat was soft and warm.\n",
        "The dog came and sat on the mat too.\n",
        "\"\"\"\n",
        "start_word = 'the'\n",
        "output_length = 20\n",
        "\n",
        "generated_text = generate_markov_chain(input_text, start_word, output_length)\n",
        "print(\"Generated text:\")\n",
        "print(generated_text)\n"
      ],
      "metadata": {
        "colab": {
          "base_uri": "https://localhost:8080/"
        },
        "id": "x3GA5RJyDSxg",
        "outputId": "2cd61594-80ea-4d70-b187-180c9079cdfd"
      },
      "execution_count": null,
      "outputs": [
        {
          "output_type": "stream",
          "name": "stdout",
          "text": [
            "Generated text:\n",
            "the mat was soft and warm. The dog came and sat on the mat. The cat sat on the mat\n"
          ]
        }
      ]
    },
    {
      "cell_type": "code",
      "source": [
        "import random\n",
        "\n",
        "def generate_markov_chain(text, start_phrase, output_length):\n",
        "    words = text.split()\n",
        "    transitions = {}\n",
        "\n",
        "    # Construct transition probabilities\n",
        "    for i in range(len(words) - 2):\n",
        "        current_phrase = ' '.join(words[i:i+2])\n",
        "        next_word = words[i + 2]\n",
        "        if current_phrase in transitions:\n",
        "            transitions[current_phrase].append(next_word)\n",
        "        else:\n",
        "            transitions[current_phrase] = [next_word]\n",
        "\n",
        "    # Generate text using Markov chain\n",
        "    output = start_phrase.split()\n",
        "    for _ in range(output_length - len(output)):\n",
        "        current_phrase = ' '.join(output[-2:])\n",
        "        if current_phrase in transitions:\n",
        "            next_word = random.choice(transitions[current_phrase])\n",
        "            output.append(next_word)\n",
        "        else:\n",
        "            break\n",
        "\n",
        "    return ' '.join(output)\n",
        "\n",
        "# Example usage:\n",
        "input_text = \"\"\"\n",
        "The cat sat on the mat.\n",
        "The mat was soft and warm.\n",
        "The dog came and sat on the mat too.\n",
        "\"\"\"\n",
        "start_phrase = 'the mat'\n",
        "output_length = 20\n",
        "\n",
        "generated_text = generate_markov_chain(input_text, start_phrase, output_length)\n",
        "print(\"Generated text:\")\n",
        "print(generated_text)\n"
      ],
      "metadata": {
        "colab": {
          "base_uri": "https://localhost:8080/"
        },
        "id": "tjO10fO8DpRB",
        "outputId": "43940830-aa99-4e7f-e1a6-31ca133c9505"
      },
      "execution_count": null,
      "outputs": [
        {
          "output_type": "stream",
          "name": "stdout",
          "text": [
            "Generated text:\n",
            "the mat too.\n"
          ]
        }
      ]
    },
    {
      "cell_type": "code",
      "source": [],
      "metadata": {
        "id": "FbMXjxISD-63"
      },
      "execution_count": null,
      "outputs": []
    }
  ]
}