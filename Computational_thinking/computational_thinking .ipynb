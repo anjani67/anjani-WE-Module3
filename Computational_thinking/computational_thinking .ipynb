{
  "nbformat": 4,
  "nbformat_minor": 0,
  "metadata": {
    "colab": {
      "provenance": []
    },
    "kernelspec": {
      "name": "python3",
      "display_name": "Python 3"
    },
    "language_info": {
      "name": "python"
    }
  },
  "cells": [
    {
      "cell_type": "markdown",
      "source": [],
      "metadata": {
        "id": "S1SZRn9EB4nU"
      }
    },
    {
      "cell_type": "code",
      "source": [
        "def distribute_idlis_dp(idlis):\n",
        "    n = len(idlis)\n",
        "    total_idlis = sum(idlis)\n",
        "\n",
        "    # Initialize dp array to store minimum idlis needed to satisfy the conditions\n",
        "    dp = [float('inf')] * (total_idlis + 1)\n",
        "    dp[0] = 0\n",
        "\n",
        "    # Iterate through each person and update the dp array\n",
        "    for i in range(n):\n",
        "        for j in range(total_idlis, -1, -1):\n",
        "            if j >= idlis[i] and dp[j - idlis[i]] != float('inf'):\n",
        "                dp[j] = min(dp[j], dp[j - idlis[i]] + idlis[i])\n",
        "\n",
        "    # Find the minimum idlis needed to satisfy the conditions\n",
        "    min_idlis = float('inf')\n",
        "    for idlis_needed in range(total_idlis // 2, total_idlis + 1):\n",
        "        if dp[idlis_needed] != float('inf'):\n",
        "            min_idlis = min(min_idlis, dp[idlis_needed])\n",
        "\n",
        "    if min_idlis == float('inf'):\n",
        "        return -1\n",
        "    return min_idlis\n",
        "\n",
        "# Test cases\n",
        "test_cases = [\n",
        "    [1, 2, 3, 4, 5],\n",
        "    [2, 2, 2, 2, 2],\n",
        "    [1, 3, 5, 7]\n",
        "]\n",
        "\n",
        "for idx, test_case in enumerate(test_cases):\n",
        "    print(f\"Test case {idx + 1}: {test_case}\")\n",
        "    print(\"Minimum number of idlis to distribute:\", distribute_idlis_dp(test_case))\n",
        "    print()\n"
      ],
      "metadata": {
        "colab": {
          "base_uri": "https://localhost:8080/"
        },
        "id": "JKyTYCnrCH30",
        "outputId": "66bb6d39-2004-455d-aec8-90a450a4bdad"
      },
      "execution_count": null,
      "outputs": [
        {
          "output_type": "stream",
          "name": "stdout",
          "text": [
            "Test case 1: [1, 2, 3, 4, 5]\n",
            "Minimum number of idlis to distribute: 7\n",
            "\n",
            "Test case 2: [2, 2, 2, 2, 2]\n",
            "Minimum number of idlis to distribute: 6\n",
            "\n",
            "Test case 3: [1, 3, 5, 7]\n",
            "Minimum number of idlis to distribute: 8\n",
            "\n"
          ]
        }
      ]
    },
    {
      "cell_type": "code",
      "source": [],
      "metadata": {
        "id": "kw3u0a_D5Lg-"
      },
      "execution_count": null,
      "outputs": []
    }
  ]
}